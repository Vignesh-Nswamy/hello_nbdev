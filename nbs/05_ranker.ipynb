{
 "cells": [
  {
   "cell_type": "code",
   "execution_count": null,
   "metadata": {},
   "outputs": [],
   "source": [
    "#default_exp ranker"
   ]
  },
  {
   "cell_type": "code",
   "execution_count": null,
   "metadata": {},
   "outputs": [],
   "source": [
    "#hide\n",
    "from nbdev.showdoc import *"
   ]
  },
  {
   "cell_type": "markdown",
   "metadata": {},
   "source": [
    "# Ranker\n",
    "> Computes PageRank for all webpages in a given graph"
   ]
  },
  {
   "cell_type": "code",
   "execution_count": null,
   "metadata": {},
   "outputs": [],
   "source": [
    "#hide\n",
    "#export\n",
    "from collections import defaultdict"
   ]
  },
  {
   "cell_type": "code",
   "execution_count": null,
   "metadata": {},
   "outputs": [],
   "source": [
    "#hide\n",
    "#export\n",
    "def invert_graph(graph):\n",
    "    \"\"\"\n",
    "    Inverts a web graph \\n\n",
    "    {parent: [children]} -> {child: [parents]} \\n\n",
    "    Returns the inverted graph\n",
    "    \"\"\"\n",
    "    inv_graph = defaultdict(list)\n",
    "    for parent, children in graph.items():\n",
    "        for child in children:\n",
    "            inv_graph[child].append(parent)\n",
    "            \n",
    "    return inv_graph"
   ]
  },
  {
   "cell_type": "code",
   "execution_count": null,
   "metadata": {},
   "outputs": [
    {
     "data": {
      "text/markdown": [
       "<h4 id=\"invert_graph\" class=\"doc_header\"><code>invert_graph</code><a href=\"__main__.py#L3\" class=\"source_link\" style=\"float:right\">[source]</a></h4>\n",
       "\n",
       "> <code>invert_graph</code>(**`graph`**)\n",
       "\n",
       "Inverts a web graph \n",
       "\n",
       "{parent: [children]} -> {child: [parents]} \n",
       "\n",
       "Returns the inverted graph"
      ],
      "text/plain": [
       "<IPython.core.display.Markdown object>"
      ]
     },
     "metadata": {},
     "output_type": "display_data"
    }
   ],
   "source": [
    "show_doc(invert_graph)"
   ]
  },
  {
   "cell_type": "code",
   "execution_count": null,
   "metadata": {},
   "outputs": [],
   "source": [
    "#hide\n",
    "#export\n",
    "def rank_pages(graph,\n",
    "               max_iter=500,\n",
    "               alpha=0.15):\n",
    "    \"\"\"\n",
    "    Given a web graph, computes page rank for all webpages.\n",
    "    Returns a dictionary with url as key and pagerank as value\n",
    "    \"\"\"\n",
    "    N = len(graph)\n",
    "    inv_graph = invert_graph(graph)\n",
    "    rank = {k:float(1/N) for (k,v) in graph.items()}\n",
    "    prev_rank = {k:float(1/N) for (k,v) in graph.items()}\n",
    "    get_rank = lambda w_sum: ((1-alpha) * w_sum) + alpha/N\n",
    "    terminate = False\n",
    "    iter_cnt = 0\n",
    "    while not terminate and iter_cnt < max_iter:\n",
    "        for child, parents in inv_graph.items():\n",
    "            rank[child] = get_rank(sum([prev_rank[parent]/len(graph[parent]) for parent in parents]))\n",
    "        terminate = rank == prev_rank\n",
    "        for k, v in rank.items():\n",
    "            prev_rank[k] = v\n",
    "        iter_cnt += 1\n",
    "    return prev_rank"
   ]
  },
  {
   "cell_type": "code",
   "execution_count": null,
   "metadata": {},
   "outputs": [
    {
     "data": {
      "text/markdown": [
       "<h4 id=\"rank_pages\" class=\"doc_header\"><code>rank_pages</code><a href=\"__main__.py#L3\" class=\"source_link\" style=\"float:right\">[source]</a></h4>\n",
       "\n",
       "> <code>rank_pages</code>(**`graph`**, **`max_iter`**=*`500`*, **`alpha`**=*`0.15`*)\n",
       "\n",
       "Given a web graph, computes page rank for all webpages.\n",
       "Returns a dictionary with url as key and pagerank as value"
      ],
      "text/plain": [
       "<IPython.core.display.Markdown object>"
      ]
     },
     "metadata": {},
     "output_type": "display_data"
    }
   ],
   "source": [
    "show_doc(rank_pages)"
   ]
  }
 ],
 "metadata": {
  "kernelspec": {
   "display_name": "Python 3",
   "language": "python",
   "name": "python3"
  }
 },
 "nbformat": 4,
 "nbformat_minor": 4
}
