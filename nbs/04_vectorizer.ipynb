{
 "cells": [
  {
   "cell_type": "code",
   "execution_count": null,
   "metadata": {},
   "outputs": [],
   "source": [
    "#default_exp vectorizer"
   ]
  },
  {
   "cell_type": "code",
   "execution_count": null,
   "metadata": {},
   "outputs": [],
   "source": [
    "#hide\n",
    "from nbdev.showdoc import *"
   ]
  },
  {
   "cell_type": "markdown",
   "metadata": {},
   "source": [
    "# Vectorizer\n",
    "> Computes tf-idf tokens for all given documents"
   ]
  },
  {
   "cell_type": "code",
   "execution_count": null,
   "metadata": {},
   "outputs": [],
   "source": [
    "#hide\n",
    "#export\n",
    "from sklearn.feature_extraction.text import TfidfVectorizer"
   ]
  },
  {
   "cell_type": "code",
   "execution_count": null,
   "metadata": {},
   "outputs": [],
   "source": [
    "#hide\n",
    "#export\n",
    "def compute_tfidf(documents):\n",
    "    \"\"\"\n",
    "    Creats a vectorizer using all documents passed as a pandas series \n",
    "    and computs tf-idf vectors for all documents.\n",
    "    Returns the vectorizer and sparse vectors respresenting tf-idf of passed documents\n",
    "    \"\"\"\n",
    "    vectorizer = TfidfVectorizer(use_idf=True)\n",
    "    doc_tfidfs = vectorizer.fit_transform(documents)\n",
    "    return vectorizer, doc_tfidfs"
   ]
  },
  {
   "cell_type": "code",
   "execution_count": null,
   "metadata": {},
   "outputs": [
    {
     "data": {
      "text/markdown": [
       "<h4 id=\"compute_tfidf\" class=\"doc_header\"><code>compute_tfidf</code><a href=\"__main__.py#L3\" class=\"source_link\" style=\"float:right\">[source]</a></h4>\n",
       "\n",
       "> <code>compute_tfidf</code>(**`documents`**)\n",
       "\n",
       "Creats a vectorizer using all documents passed as a pandas series \n",
       "and computs tf-idf vectors for all documents.\n",
       "Returns the vectorizer and sparse vectors respresenting tf-idf of passed documents"
      ],
      "text/plain": [
       "<IPython.core.display.Markdown object>"
      ]
     },
     "metadata": {},
     "output_type": "display_data"
    }
   ],
   "source": [
    "show_doc(compute_tfidf)"
   ]
  }
 ],
 "metadata": {
  "kernelspec": {
   "display_name": "Python 3",
   "language": "python",
   "name": "python3"
  }
 },
 "nbformat": 4,
 "nbformat_minor": 4
}
