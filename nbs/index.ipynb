{
 "cells": [
  {
   "cell_type": "markdown",
   "metadata": {},
   "source": [
    "# Web Crawler\n",
    "\n",
    "> Crawls a domain and stores crawl data for quick query searches"
   ]
  },
  {
   "cell_type": "markdown",
   "metadata": {},
   "source": [
    "## Install (Optional)\n",
    "\n",
    "The package can be installed using pip as below"
   ]
  },
  {
   "cell_type": "markdown",
   "metadata": {},
   "source": [
    "`pip install -e .`"
   ]
  },
  {
   "cell_type": "markdown",
   "metadata": {},
   "source": [
    "## Dependencies"
   ]
  },
  {
   "cell_type": "markdown",
   "metadata": {},
   "source": [
    "This project requires the following dependencies\n",
    "- numpy\n",
    "- pandas\n",
    "- sklearn\n",
    "- nltk\n",
    "- beautifulsoup4\n",
    "- urllib\n",
    "\n",
    "> If you installed the package, there is no need to separately install the dependencies"
   ]
  },
  {
   "cell_type": "markdown",
   "metadata": {},
   "source": [
    "## Usage"
   ]
  },
  {
   "cell_type": "markdown",
   "metadata": {},
   "source": [
    "### Crawling Webpages"
   ]
  },
  {
   "cell_type": "markdown",
   "metadata": {},
   "source": [
    "Before we can start searching, the domain we wish to query has to be crawled and stored. To do that, `crawl.py` is executed."
   ]
  },
  {
   "cell_type": "markdown",
   "metadata": {},
   "source": [
    "To know how to use `crawl.py`, execute `crawl.py -h`\n",
    "\n",
    "```bash\n",
    "usage: crawl.py [-h] [-d [DOMAIN]] [-s [SEED]] [-n [NUM_PAGES]]\n",
    "\n",
    "Web crawler\n",
    "\n",
    "optional arguments:\n",
    "  -h, --help            show this help message and exit\n",
    "  -d [DOMAIN], --domain [DOMAIN]\n",
    "                        Domain to crawl\n",
    "  -s [SEED], --seed [SEED]\n",
    "                        Seed URL to start crawling from\n",
    "  -n [NUM_PAGES], --num_pages [NUM_PAGES]\n",
    "                        Number of pages to crawl\n",
    "```"
   ]
  },
  {
   "cell_type": "markdown",
   "metadata": {},
   "source": [
    "Here's an example...\n",
    "\n",
    "```bash\n",
    "crawl.py -d uic.edu -s https://cs.uic.edu -n 3000\n",
    "```\n",
    "This will crawl `3000` webpages from the domain `uic.edu` starting from `https://cs.uic.edu`"
   ]
  },
  {
   "cell_type": "markdown",
   "metadata": {},
   "source": [
    "### Searching crawled domains"
   ]
  },
  {
   "cell_type": "markdown",
   "metadata": {},
   "source": [
    "Now that we have some webpages crawled and stored for a domain (say, `uic.edu`), we can query that domain to return search results using `search.py`"
   ]
  },
  {
   "cell_type": "markdown",
   "metadata": {},
   "source": [
    "To know how to use `search.py`, execute `search.py -h`\n",
    "\n",
    "```bash\n",
    "usage: search.py [-h] [-d [DOMAIN]] [-q QUERY] [-n [NUM_RESULTS]]\n",
    "\n",
    "Search web pages\n",
    "\n",
    "optional arguments:\n",
    "  -h, --help            show this help message and exit\n",
    "  -d [DOMAIN], --domain [DOMAIN]\n",
    "                        Domain to search in\n",
    "  -q QUERY, --query QUERY\n",
    "                        Query to search a given domain\n",
    "  -n [NUM_RESULTS], --num_results [NUM_RESULTS]\n",
    "                        Number of results to show\n",
    "```"
   ]
  },
  {
   "cell_type": "markdown",
   "metadata": {},
   "source": [
    "Here's an example...\n",
    "\n",
    "```bash\n",
    "search.py -d uic.edu -q library -n 10\n",
    "```\n",
    "This will return `10` relevant results to query term `q` from the domain `uic.edu`\n",
    "\n",
    "```bash\n",
    "https://library.uic.edu/using-the-library\n",
    "https://library.uic.edu/help/search?t%5B0%5D=18\n",
    "https://library.uic.edu/help/search?t%5B0%5D=21\n",
    "https://library.uic.edu/help/search?l%5B0%5D=391\n",
    "https://library.uic.edu/help/search?t[]=18&t[]=20&t[]=21&t[]=26&t[]=29&;\n",
    "https://library.uic.edu/help/search?t[]=17&t[]=24&t[]=208&l[]=390&l[]=388&l[]=389&l[]=391&l[]=386\n",
    "https://library.uic.edu/help/search?t[]=19&t[]=48&t[]=21&l[]=386\n",
    "https://library.uic.edu/help/search?t[]=18&t[]=23&l[]=386\n",
    "https://library.uic.edu/help/search?q=&t%5B%5D=18\n",
    "https://library.uic.edu/help/search?q=&t%5B%5D=21\n",
    "```"
   ]
  },
  {
   "cell_type": "markdown",
   "metadata": {},
   "source": [
    "## More Details"
   ]
  },
  {
   "cell_type": "markdown",
   "metadata": {},
   "source": [
    "For more details about this package, please visit https://vignesh-nswamy.github.io/search_engine/"
   ]
  }
 ],
 "metadata": {
  "kernelspec": {
   "display_name": "Python 3",
   "language": "python",
   "name": "python3"
  }
 },
 "nbformat": 4,
 "nbformat_minor": 4
}