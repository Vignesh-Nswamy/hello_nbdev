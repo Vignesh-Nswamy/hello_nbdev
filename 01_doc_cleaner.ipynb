{
 "cells": [
  {
   "cell_type": "code",
   "execution_count": null,
   "metadata": {},
   "outputs": [],
   "source": [
    "#default_exp doc_cleaner"
   ]
  },
  {
   "cell_type": "code",
   "execution_count": null,
   "metadata": {},
   "outputs": [],
   "source": [
    "#hide\n",
    "from nbdev.showdoc import *"
   ]
  },
  {
   "cell_type": "markdown",
   "metadata": {},
   "source": [
    "# Doc Cleaner\n",
    "Removes noise (stopwords, very short tokens, punctuations digits; etc) from webpage content"
   ]
  },
  {
   "cell_type": "code",
   "execution_count": null,
   "metadata": {},
   "outputs": [],
   "source": [
    "#hide\n",
    "#export\n",
    "import nltk\n",
    "from nltk.corpus import stopwords\n",
    "from nltk.stem import PorterStemmer\n",
    "from string import punctuation, digits\n",
    "\n",
    "nltk.download('stopwords')"
   ]
  },
  {
   "cell_type": "code",
   "execution_count": null,
   "metadata": {},
   "outputs": [],
   "source": [
    "#hide\n",
    "#export\n",
    "remove_puncts = lambda lines: lines.translate(str.maketrans(punctuation,' '*len(punctuation)))\n",
    "remove_digits = lambda lines: lines.translate(str.maketrans('', '', digits))\n",
    "\n",
    "stemmer = PorterStemmer()\n",
    "stop_words = set(stopwords.words('english'))\n",
    "filter_by_length = lambda token: len(token) >= 3 and token not in stop_words"
   ]
  },
  {
   "cell_type": "code",
   "execution_count": null,
   "metadata": {},
   "outputs": [],
   "source": [
    "#hide\n",
    "#export\n",
    "def clean_text(doc_lines):\n",
    "    \"\"\"\n",
    "    Removes punctuations and digits from document and returns tokens\n",
    "    \"\"\"\n",
    "    doc_lines = remove_puncts(doc_lines)\n",
    "    remove_digits = remove_puncts(doc_lines)\n",
    "    return doc_lines.split()"
   ]
  },
  {
   "cell_type": "code",
   "execution_count": null,
   "metadata": {},
   "outputs": [
    {
     "data": {
      "text/markdown": [
       "<h4 id=\"clean_text\" class=\"doc_header\"><code>clean_text</code><a href=\"__main__.py#L3\" class=\"source_link\" style=\"float:right\">[source]</a></h4>\n",
       "\n",
       "> <code>clean_text</code>(**`doc_lines`**)\n",
       "\n",
       "Removes punctuations and digits from document and returns tokens"
      ],
      "text/plain": [
       "<IPython.core.display.Markdown object>"
      ]
     },
     "metadata": {},
     "output_type": "display_data"
    }
   ],
   "source": [
    "show_doc(clean_text)"
   ]
  },
  {
   "cell_type": "code",
   "execution_count": null,
   "metadata": {},
   "outputs": [],
   "source": [
    "#hide\n",
    "#export\n",
    "def clean_tokens(tokens):\n",
    "    \"\"\"\n",
    "    Removes stopwords, tokens with length less than 3 characters and stems them\n",
    "    PorterStemmer is used for stemming\n",
    "    \"\"\"\n",
    "    tokens = [stemmer.stem(t) for t in tokens if t not in stopwords]\n",
    "    tokens = list(filter(filter_by_length, tokens))\n",
    "    return tokens"
   ]
  },
  {
   "cell_type": "code",
   "execution_count": null,
   "metadata": {},
   "outputs": [
    {
     "data": {
      "text/markdown": [
       "<h4 id=\"clean_tokens\" class=\"doc_header\"><code>clean_tokens</code><a href=\"__main__.py#L3\" class=\"source_link\" style=\"float:right\">[source]</a></h4>\n",
       "\n",
       "> <code>clean_tokens</code>(**`tokens`**)\n",
       "\n",
       "Removes stopwords, tokens with length less than 3 characters and stems them\n",
       "PorterStemmer is used for stemming"
      ],
      "text/plain": [
       "<IPython.core.display.Markdown object>"
      ]
     },
     "metadata": {},
     "output_type": "display_data"
    }
   ],
   "source": [
    "show_doc(clean_tokens)"
   ]
  },
  {
   "cell_type": "code",
   "execution_count": null,
   "metadata": {},
   "outputs": [],
   "source": [
    "#hide\n",
    "#export\n",
    "def clean(doc):\n",
    "    \"\"\"\n",
    "    Cleans a document by removing punctuations, digits, stopwords, tokens shorter than 3 characters\n",
    "    \"\"\"\n",
    "    tokens = clean_text(doc)\n",
    "    return clean_tokens(tokens)"
   ]
  },
  {
   "cell_type": "code",
   "execution_count": null,
   "metadata": {},
   "outputs": [
    {
     "data": {
      "text/markdown": [
       "<h4 id=\"clean\" class=\"doc_header\"><code>clean</code><a href=\"__main__.py#L3\" class=\"source_link\" style=\"float:right\">[source]</a></h4>\n",
       "\n",
       "> <code>clean</code>(**`doc`**)\n",
       "\n",
       "Cleans a document by removing punctuations, digits, stopwords, tokens shorter than 3 characters"
      ],
      "text/plain": [
       "<IPython.core.display.Markdown object>"
      ]
     },
     "metadata": {},
     "output_type": "display_data"
    }
   ],
   "source": [
    "show_doc(clean)"
   ]
  }
 ],
 "metadata": {
  "kernelspec": {
   "display_name": "Python 3",
   "language": "python",
   "name": "python3"
  }
 },
 "nbformat": 4,
 "nbformat_minor": 4
}
