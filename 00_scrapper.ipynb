{
 "cells": [
  {
   "cell_type": "code",
   "execution_count": null,
   "metadata": {},
   "outputs": [],
   "source": [
    "#default_exp scrapper"
   ]
  },
  {
   "cell_type": "code",
   "execution_count": null,
   "metadata": {},
   "outputs": [],
   "source": [
    "#hide\n",
    "from nbdev.showdoc import *"
   ]
  },
  {
   "cell_type": "markdown",
   "metadata": {},
   "source": [
    "# Scrapper\n",
    "Scrapes information (page content and links) from a URL"
   ]
  },
  {
   "cell_type": "code",
   "execution_count": null,
   "metadata": {},
   "outputs": [],
   "source": [
    "#hide\n",
    "#export\n",
    "import requests\n",
    "import re\n",
    "from bs4 import BeautifulSoup\n",
    "\n",
    "\n",
    "from bs4.element import Comment"
   ]
  },
  {
   "cell_type": "code",
   "execution_count": null,
   "metadata": {},
   "outputs": [],
   "source": [
    "#hide\n",
    "#export\n",
    "def get_html_content(url):\n",
    "    \"\"\"\n",
    "    Gets the raw html content of a given url\n",
    "    \"\"\"\n",
    "    return requests.get(url).content.decode('latin-1')"
   ]
  },
  {
   "cell_type": "code",
   "execution_count": null,
   "metadata": {},
   "outputs": [
    {
     "data": {
      "text/markdown": [
       "<h4 id=\"get_html_content\" class=\"doc_header\"><code>get_html_content</code><a href=\"__main__.py#L3\" class=\"source_link\" style=\"float:right\">[source]</a></h4>\n",
       "\n",
       "> <code>get_html_content</code>(**`url`**)\n",
       "\n",
       "Gets the raw html content of a given url"
      ],
      "text/plain": [
       "<IPython.core.display.Markdown object>"
      ]
     },
     "metadata": {},
     "output_type": "display_data"
    }
   ],
   "source": [
    "show_doc(get_html_content)"
   ]
  },
  {
   "cell_type": "code",
   "execution_count": null,
   "metadata": {},
   "outputs": [],
   "source": [
    "#hide\n",
    "#export\n",
    "def filter_tags(element):\n",
    "    \"\"\"\n",
    "    Filters out unwanted tags from html text content\n",
    "    \"\"\"\n",
    "    unwanted = {t: '0' for t in ['style', 'script', 'head', 'title', 'meta', '[document]']}\n",
    "    if element.parent.name in unwanted or isinstance(element, Comment):\n",
    "        return False\n",
    "    return True"
   ]
  },
  {
   "cell_type": "code",
   "execution_count": null,
   "metadata": {},
   "outputs": [
    {
     "data": {
      "text/markdown": [
       "<h4 id=\"filter_tags\" class=\"doc_header\"><code>filter_tags</code><a href=\"__main__.py#L3\" class=\"source_link\" style=\"float:right\">[source]</a></h4>\n",
       "\n",
       "> <code>filter_tags</code>(**`element`**)\n",
       "\n",
       "Filters out unwanted tags from html text content"
      ],
      "text/plain": [
       "<IPython.core.display.Markdown object>"
      ]
     },
     "metadata": {},
     "output_type": "display_data"
    }
   ],
   "source": [
    "show_doc(filter_tags)"
   ]
  },
  {
   "cell_type": "code",
   "execution_count": null,
   "metadata": {},
   "outputs": [],
   "source": [
    "#hide\n",
    "#export\n",
    "def get_text_content(soup):\n",
    "    \"\"\"\n",
    "    Extracts text from html soup and filters it\n",
    "    \"\"\"\n",
    "    text = soup.findAll(text=True)\n",
    "    filtered_text = filter(filter_tags, text)\n",
    "    return u\" \".join(t.strip() for t in filtered_text)"
   ]
  },
  {
   "cell_type": "code",
   "execution_count": null,
   "metadata": {},
   "outputs": [
    {
     "data": {
      "text/markdown": [
       "<h4 id=\"get_text_content\" class=\"doc_header\"><code>get_text_content</code><a href=\"__main__.py#L3\" class=\"source_link\" style=\"float:right\">[source]</a></h4>\n",
       "\n",
       "> <code>get_text_content</code>(**`soup`**)\n",
       "\n",
       "Extracts text from html soup and filters it"
      ],
      "text/plain": [
       "<IPython.core.display.Markdown object>"
      ]
     },
     "metadata": {},
     "output_type": "display_data"
    }
   ],
   "source": [
    "show_doc(get_text_content)"
   ]
  },
  {
   "cell_type": "code",
   "execution_count": null,
   "metadata": {},
   "outputs": [],
   "source": [
    "#hide\n",
    "#export\n",
    "def get_linked_urls(soup):\n",
    "    \"\"\"\n",
    "    Extracts linked urls from html soup and filters it\n",
    "    \"\"\"\n",
    "    link_cleaner = lambda l: l['href']\n",
    "    links = soup.findAll('a',href=True)\n",
    "    return list(map(link_cleaner, links))"
   ]
  },
  {
   "cell_type": "code",
   "execution_count": null,
   "metadata": {},
   "outputs": [
    {
     "data": {
      "text/markdown": [
       "<h4 id=\"get_linked_urls\" class=\"doc_header\"><code>get_linked_urls</code><a href=\"__main__.py#L3\" class=\"source_link\" style=\"float:right\">[source]</a></h4>\n",
       "\n",
       "> <code>get_linked_urls</code>(**`soup`**)\n",
       "\n",
       "Extracts linked urls from html soup and filters it"
      ],
      "text/plain": [
       "<IPython.core.display.Markdown object>"
      ]
     },
     "metadata": {},
     "output_type": "display_data"
    }
   ],
   "source": [
    "show_doc(get_linked_urls)"
   ]
  },
  {
   "cell_type": "code",
   "execution_count": null,
   "metadata": {},
   "outputs": [],
   "source": [
    "#hide\n",
    "#export\n",
    "def parse_webpage(url):\n",
    "    \"\"\"\n",
    "    Extracts usable text and linked urls from given url's html content\n",
    "    \"\"\"\n",
    "    html = get_html_content(url)\n",
    "    soup = BeautifulSoup(html, 'html.parser')\n",
    "    return get_text_content(soup), get_linked_urls(soup)"
   ]
  },
  {
   "cell_type": "code",
   "execution_count": null,
   "metadata": {},
   "outputs": [
    {
     "data": {
      "text/markdown": [
       "<h4 id=\"parse_webpage\" class=\"doc_header\"><code>parse_webpage</code><a href=\"__main__.py#L3\" class=\"source_link\" style=\"float:right\">[source]</a></h4>\n",
       "\n",
       "> <code>parse_webpage</code>(**`url`**)\n",
       "\n",
       "Extracts usable text and linked urls from given url's html content"
      ],
      "text/plain": [
       "<IPython.core.display.Markdown object>"
      ]
     },
     "metadata": {},
     "output_type": "display_data"
    }
   ],
   "source": [
    "show_doc(parse_webpage)"
   ]
  }
 ],
 "metadata": {
  "kernelspec": {
   "display_name": "Python 3",
   "language": "python",
   "name": "python3"
  }
 },
 "nbformat": 4,
 "nbformat_minor": 4
}
